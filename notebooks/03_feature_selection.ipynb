{
 "cells": [
  {
   "cell_type": "code",
   "execution_count": 1,
   "id": "2d8d83c5",
   "metadata": {},
   "outputs": [],
   "source": [
    "import pandas as pd\n",
    "import joblib\n",
    "from sklearn.ensemble import RandomForestClassifier\n",
    "from sklearn.feature_selection import RFE, SelectKBest, chi2\n",
    "from sklearn.linear_model import LogisticRegression\n",
    "from sklearn.model_selection import train_test_split\n"
   ]
  },
  {
   "cell_type": "code",
   "execution_count": null,
   "id": "89fcbdfa",
   "metadata": {},
   "outputs": [],
   "source": [
    "# Load cleaned dataset\n",
    "df = pd.read_csv(\"data/heart_disease_cleveland_clean.csv\")   \n",
    "\n",
    "X = df.drop(\"target\", axis=1)\n",
    "y = df[\"target\"]\n",
    "\n",
    "# Train/test split\n",
    "X_train, X_test, y_train, y_test = train_test_split(\n",
    "    X, y, test_size=0.2, random_state=42, stratify=y\n",
    ")\n",
    "\n",
    "# Load preprocessor\n",
    "preprocessor = joblib.load(r\"C:\\Users\\moham\\miniconda3\\envs\\heart_ml\\models\\final_pipeline.pkl\")\n",
    "\n",
    "X_train_trans = preprocessor.fit_transform(X_train)\n",
    "X_test_trans = preprocessor.transform(X_test)\n"
   ]
  },
  {
   "cell_type": "code",
   "execution_count": 6,
   "id": "3c51ec84",
   "metadata": {},
   "outputs": [
    {
     "data": {
      "text/plain": [
       "thal_3.0     0.090375\n",
       "thalach      0.087598\n",
       "oldpeak      0.085813\n",
       "cp_4.0       0.084182\n",
       "ca_0.0       0.074695\n",
       "age          0.073600\n",
       "thal_7.0     0.073571\n",
       "chol         0.068672\n",
       "trestbps     0.066678\n",
       "exang_1.0    0.035474\n",
       "slope_2.0    0.029744\n",
       "cp_3.0       0.029335\n",
       "slope_1.0    0.028958\n",
       "exang_0.0    0.025954\n",
       "ca_1.0       0.018111\n",
       "dtype: float64"
      ]
     },
     "execution_count": 6,
     "metadata": {},
     "output_type": "execute_result"
    }
   ],
   "source": [
    "rf = RandomForestClassifier(n_estimators=200, random_state=42)\n",
    "rf.fit(X_train_trans, y_train)\n",
    "\n",
    "importances = rf.feature_importances_\n",
    "\n",
    "# Get feature names from preprocessor\n",
    "ohe = preprocessor.named_transformers_['cat'].named_steps['onehot']\n",
    "cat_names = ohe.get_feature_names_out(preprocessor.transformers_[1][2])\n",
    "all_features = preprocessor.transformers_[0][2] + list(cat_names)\n",
    "\n",
    "feat_imp = pd.Series(importances, index=all_features).sort_values(ascending=False)\n",
    "feat_imp.head(15)\n"
   ]
  },
  {
   "cell_type": "code",
   "execution_count": 7,
   "id": "d819b702",
   "metadata": {},
   "outputs": [
    {
     "data": {
      "text/plain": [
       "['oldpeak',\n",
       " 'cp_3.0',\n",
       " 'cp_4.0',\n",
       " 'restecg_0.0',\n",
       " 'slope_1.0',\n",
       " 'ca_0.0',\n",
       " 'ca_1.0',\n",
       " 'ca_2.0',\n",
       " 'thal_3.0',\n",
       " 'thal_7.0']"
      ]
     },
     "execution_count": 7,
     "metadata": {},
     "output_type": "execute_result"
    }
   ],
   "source": [
    "lr = LogisticRegression(solver=\"liblinear\", max_iter=1000)\n",
    "rfe = RFE(lr, n_features_to_select=10)\n",
    "rfe.fit(X_train_trans, y_train)\n",
    "\n",
    "selected_features = pd.Series(rfe.support_, index=all_features)\n",
    "selected_features[selected_features == True].index.tolist()\n"
   ]
  },
  {
   "cell_type": "code",
   "execution_count": 8,
   "id": "82119688",
   "metadata": {},
   "outputs": [
    {
     "data": {
      "text/plain": [
       "['cp_3.0',\n",
       " 'cp_4.0',\n",
       " 'exang_0.0',\n",
       " 'exang_1.0',\n",
       " 'slope_1.0',\n",
       " 'slope_2.0',\n",
       " 'ca_0.0',\n",
       " 'ca_2.0',\n",
       " 'thal_3.0',\n",
       " 'thal_7.0']"
      ]
     },
     "execution_count": 8,
     "metadata": {},
     "output_type": "execute_result"
    }
   ],
   "source": [
    "from sklearn.preprocessing import MinMaxScaler\n",
    "\n",
    "X_train_chi2 = MinMaxScaler().fit_transform(X_train_trans)\n",
    "\n",
    "chi2_selector = SelectKBest(chi2, k=10)\n",
    "chi2_selector.fit(X_train_chi2, y_train)\n",
    "\n",
    "chi2_features = pd.Series(chi2_selector.get_support(), index=all_features)\n",
    "chi2_features[chi2_features == True].index.tolist()\n"
   ]
  },
  {
   "cell_type": "code",
   "execution_count": 10,
   "id": "e48f2993",
   "metadata": {},
   "outputs": [],
   "source": [
    "with open(r\"C:\\Users\\moham\\miniconda3\\envs\\heart_ml\\results\\evaluation_metrics.txt\", \"a\") as f:\n",
    "    f.write(\"\\n--- Feature Selection ---\\n\")\n",
    "    f.write(\"Top 10 RF features: \" + str(feat_imp.head(10).index.tolist()) + \"\\n\")\n",
    "    f.write(\"RFE selected: \" + str(selected_features[selected_features == True].index.tolist()) + \"\\n\")\n",
    "    f.write(\"Chi2 selected: \" + str(chi2_features[chi2_features == True].index.tolist()) + \"\\n\")\n"
   ]
  },
  {
   "cell_type": "code",
   "execution_count": null,
   "id": "f866ac99",
   "metadata": {},
   "outputs": [],
   "source": []
  }
 ],
 "metadata": {
  "kernelspec": {
   "display_name": "heart_ml",
   "language": "python",
   "name": "python3"
  },
  "language_info": {
   "codemirror_mode": {
    "name": "ipython",
    "version": 3
   },
   "file_extension": ".py",
   "mimetype": "text/x-python",
   "name": "python",
   "nbconvert_exporter": "python",
   "pygments_lexer": "ipython3",
   "version": "3.10.18"
  }
 },
 "nbformat": 4,
 "nbformat_minor": 5
}
